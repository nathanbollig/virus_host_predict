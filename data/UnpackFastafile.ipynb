{
 "cells": [
  {
   "cell_type": "code",
   "execution_count": 2,
   "metadata": {},
   "outputs": [],
   "source": [
    "import gzip\n",
    "from Bio import SeqIO\n",
    "import os"
   ]
  },
  {
   "cell_type": "markdown",
   "metadata": {},
   "source": [
    "## Notebook to unpack the compressed genome and cds files"
   ]
  },
  {
   "cell_type": "markdown",
   "metadata": {},
   "source": [
    "### 1. Unpack the nucleic acid fasta files into data/fna directoty.\n"
   ]
  },
  {
   "cell_type": "code",
   "execution_count": 4,
   "metadata": {
    "scrolled": true
   },
   "outputs": [
    {
     "name": "stdout",
     "output_type": "stream",
     "text": [
      "fna/virushostdb.genomic.fna.gz\n",
      "file 0: fna/AB007990.fasta \n",
      "file 500: fna/AP004402.fasta \n",
      "file 1000: fna/EU240895.fasta \n",
      "file 1500: fna/HQ385747.fasta \n",
      "file 2000: fna/KC182548.fasta \n",
      "file 2500: fna/NC_000935.fasta \n",
      "file 3000: fna/NC_002666.fasta \n",
      "file 3500: fna/NC_003884.fasta \n",
      "file 4000: fna/NC_005361.fasta \n",
      "file 4500: fna/NC_007572.fasta \n",
      "file 5000: fna/NC_009014.fasta \n",
      "file 5500: fna/NC_011501.fasta \n",
      "file 6000: fna/NC_014595.fasta \n",
      "file 6500: fna/NC_017989.fasta \n",
      "file 7000: fna/NC_020899.fasta \n",
      "file 7500: fna/NC_023303.fasta \n",
      "file 8000: fna/NC_024787.fasta \n",
      "file 8500: fna/NC_026640.fasta \n",
      "file 9000: fna/NC_028373.fasta \n",
      "file 9500: fna/NC_029308.fasta \n",
      "file 10000: fna/NC_031042.fasta \n",
      "file 10500: fna/NC_032278.fasta \n",
      "file 11000: fna/NC_032975.fasta \n",
      "file 11500: fna/NC_033745.fasta \n",
      "file 12000: fna/NC_036468.fasta \n",
      "file 12500: fna/NC_038639.fasta \n",
      "file 13000: fna/NC_039232.fasta \n",
      "file 13500: fna/NC_040777.fasta \n",
      "file 14000: fna/NC_043098.fasta \n",
      "file 14500: fna/NC_043599.fasta \n",
      "14746 files extracted\n"
     ]
    }
   ],
   "source": [
    "count = 0\n",
    "fastapath = \"fna/\"\n",
    "inputfile = \"fna/virushostdb.genomic.fna.gz\"\n",
    "print (inputfile)\n",
    "with gzip.open(inputfile, \"rt\") as handle:\n",
    "    for record in SeqIO.parse(handle, \"fasta\"):\n",
    "        fileout = os.path.join(fastapath, record.id +\".fasta\")\n",
    "        with open(fileout, \"w\") as output_handle:\n",
    "            SeqIO.write(record, output_handle, \"fasta\")\n",
    "            if count%500 == 0:\n",
    "                print (f'file {count}: {fileout} ')           \n",
    "        count += 1\n",
    "print (f'{count} files extracted')"
   ]
  },
  {
   "cell_type": "markdown",
   "metadata": {},
   "source": [
    "### 2. Unpack the faa files into data/faa\n",
    "\n"
   ]
  },
  {
   "cell_type": "code",
   "execution_count": 3,
   "metadata": {},
   "outputs": [
    {
     "name": "stdout",
     "output_type": "stream",
     "text": [
      "faa/virushostdb.cds.faa.gz\n",
      "Working on AB644281 and the 500 CDS record\n",
      "Working on AF311938 and the 2500 CDS record\n",
      "Working on FJ445114 and the 13500 CDS record\n",
      "Working on GQ227670 and the 15500 CDS record\n",
      "Working on NC_000874 and the 68500 CDS record\n",
      "Working on NC_000939 and the 69000 CDS record\n",
      "Working on NC_001416 and the 70000 CDS record\n",
      "Working on NC_003094 and the 80000 CDS record\n",
      "Working on NC_004097 and the 85000 CDS record\n",
      "Working on NC_007563 and the 105500 CDS record\n",
      "Working on NC_008267 and the 111000 CDS record\n",
      "Working on NC_010797 and the 127000 CDS record\n",
      "Working on NC_012484 and the 136000 CDS record\n",
      "Working on NC_013423 and the 140000 CDS record\n",
      "Working on NC_015124 and the 150500 CDS record\n",
      "Working on NC_019782 and the 188000 CDS record\n",
      "Working on NC_020104 and the 192000 CDS record\n",
      "Working on NC_022894 and the 227000 CDS record\n",
      "Working on NC_023746 and the 247500 CDS record\n",
      "Working on NC_025401 and the 261500 CDS record\n",
      "Working on NC_026946 and the 277500 CDS record\n",
      "Working on NC_032208 and the 369500 CDS record\n",
      "Working on NC_032527 and the 370000 CDS record\n",
      "Working on NC_033081 and the 371000 CDS record\n",
      "Working on NC_034513 and the 375000 CDS record\n",
      "Working on NC_038556 and the 385000 CDS record\n",
      "Working on NC_040485 and the 387000 CDS record\n",
      "Working on NC_040830 and the 389000 CDS record\n",
      "Working on NC_043054 and the 430000 CDS record\n",
      "Working on NC_043139 and the 430500 CDS record\n",
      "Working on NC_043444 and the 431500 CDS record\n",
      " number of CDS 435914 number of genomes 14324\n"
     ]
    }
   ],
   "source": [
    "count = 0\n",
    "outpath = \"faa/\"\n",
    "inputfile = \"faa/virushostdb.cds.faa.gz\"\n",
    "print (inputfile)\n",
    "path = 'fasta/'\n",
    "seq_list = []\n",
    "old_refid = 'xxxx'\n",
    "n_records = 0\n",
    "all_records = []\n",
    "all_n_records = []\n",
    "\n",
    "with gzip.open(inputfile, \"rt\") as handle:\n",
    "    \n",
    "    for record in SeqIO.parse(handle, \"fasta\"):\n",
    "        \n",
    "        count += 1\n",
    "        #Parse out the sequence id             \n",
    "        # example        BAA82924.1|/gene=\"ORF 36\",/product=\"UL28 product homolog\"||AB024414|[49188:51624](-)\n",
    "        refid = record.description.split('|')[-2]\n",
    "\n",
    "        if count == 1:  # for the first record  in fileonly\n",
    "            seq_list.append(refid)\n",
    "            old_refid = refid\n",
    "\n",
    "        if refid == old_refid: # another record for same refseq\n",
    "            all_records.append(record)\n",
    "            n_records += 1\n",
    "\n",
    "        else:\n",
    "        # CDS from a new species , write out all_records to a file\n",
    "\n",
    "            all_n_records.append(n_records)\n",
    "            SeqIO.write(all_records, f\"{outpath}{old_refid}.fasta\", \"fasta\")  \n",
    "            seq_list.append(refid)\n",
    "            old_refid = refid\n",
    "            n_records = 1\n",
    "            all_records = [record]\n",
    "            if count%500 == 0:\n",
    "                print (f'Working on {old_refid} and the {count} CDS record')   \n",
    "    \n",
    "print (' number of CDS', count, 'number of genomes',len(seq_list))\n",
    "\n",
    "                "
   ]
  },
  {
   "cell_type": "code",
   "execution_count": null,
   "metadata": {},
   "outputs": [],
   "source": []
  }
 ],
 "metadata": {
  "kernelspec": {
   "display_name": "Python 3",
   "language": "python",
   "name": "python3"
  },
  "language_info": {
   "codemirror_mode": {
    "name": "ipython",
    "version": 3
   },
   "file_extension": ".py",
   "mimetype": "text/x-python",
   "name": "python",
   "nbconvert_exporter": "python",
   "pygments_lexer": "ipython3",
   "version": "3.7.0"
  }
 },
 "nbformat": 4,
 "nbformat_minor": 2
}
